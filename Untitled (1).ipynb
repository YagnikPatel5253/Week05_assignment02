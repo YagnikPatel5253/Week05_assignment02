{
 "cells": [
  {
   "cell_type": "markdown",
   "id": "10d45e20-70f8-4608-82fa-28e5b35ba1b1",
   "metadata": {},
   "source": [
    "1. Explain why we have to use the Exception class while creating a Custom Exception."
   ]
  },
  {
   "cell_type": "raw",
   "id": "871b505f-6235-488b-9fb8-525a89fb111a",
   "metadata": {},
   "source": [
    "1. Inheritance and Exception Hierarchy:\n",
    "Organized Error Handling: Inheriting from Exception establishes a clear parent-child relationship within the exception hierarchy. This enables structured exception handling, allowing try...except blocks to catch custom exceptions along with built-in exceptions based on their shared base class.\n",
    "Encapsulation and Reusability: Grouping custom exceptions under the Exception umbrella creates a cohesive system for managing errors. You can create exception hierarchies for different application domains, fostering code reusability and maintainability.\n",
    "\n",
    "2. Essential Functionality:\n",
    "Error Message Storage: The Exception class provides the core attribute message to store a descriptive error message. Custom exceptions inherit this functionality, enabling them to communicate meaningful information about the error.\n",
    "Traceback Management: Exception instances maintain a traceback, a stack trace that details the sequence of function calls leading to the error. This is crucial for debugging and understanding the error's context.\n",
    "\n",
    "3. Consistency and Compatibility:\n",
    "Standardized Interface: By inheriting from Exception, custom exceptions adhere to a consistent interface for handling and interacting with them. This makes them compatible with Python's built-in exception handling mechanisms.\n",
    "Integration with Built-in Features: Custom exceptions can seamlessly integrate with language features like try...except blocks, raise, and logging frameworks, ensuring a unified approach to error management.\n",
    "\n",
    "4. Flexibility and Customization:\n",
    "Additional Attributes: While inheriting core functionality, custom exceptions can introduce additional attributes or methods to provide more context-specific information or specialized behaviors, tailoring them to specific application needs."
   ]
  },
  {
   "cell_type": "markdown",
   "id": "20c1607f-07f2-4a3f-b1bd-23e8ee71d2fb",
   "metadata": {},
   "source": [
    "2.Write a python program to print Python Exception Hierarchy."
   ]
  },
  {
   "cell_type": "code",
   "execution_count": 13,
   "id": "e68c8398-96b7-4270-b08c-1959d78c306e",
   "metadata": {},
   "outputs": [
    {
     "name": "stdout",
     "output_type": "stream",
     "text": [
      "BaseException\n",
      "  object\n"
     ]
    }
   ],
   "source": [
    "def print_exception_hierarchy(exception, level=0):\n",
    "    print(\"  \" * level + exception.__name__)\n",
    "    if hasattr(exception, '__bases__') and exception.__bases__:\n",
    "        for base_exception in exception.__bases__:\n",
    "            print_exception_hierarchy(base_exception, level + 1)\n",
    "\n",
    "# Print the Python Exception Hierarchy\n",
    "print_exception_hierarchy(BaseException)"
   ]
  },
  {
   "cell_type": "markdown",
   "id": "1ea2b474-8f2e-40af-8560-36638ad59ecb",
   "metadata": {},
   "source": [
    "Q3. What errors are defined in the ArithmeticError class? Explain any two with an example."
   ]
  },
  {
   "cell_type": "raw",
   "id": "24b387a8-fe4e-40b1-8099-85145896e551",
   "metadata": {},
   "source": [
    "ZeroDivisionError:\n",
    "This error is raised when the second operand of a division or modulo operation is zero."
   ]
  },
  {
   "cell_type": "code",
   "execution_count": 14,
   "id": "94cc6fc5-d3a0-42d3-921b-5e8ae1ff9c9b",
   "metadata": {},
   "outputs": [
    {
     "name": "stdout",
     "output_type": "stream",
     "text": [
      "Caught an exception: ZeroDivisionError - division by zero\n"
     ]
    }
   ],
   "source": [
    "try:\n",
    "    result = 10 / 0\n",
    "except ZeroDivisionError as e:\n",
    "    print(f\"Caught an exception: {type(e).__name__} - {e}\")\n"
   ]
  },
  {
   "cell_type": "code",
   "execution_count": 19,
   "id": "2902e94f-8737-41b1-8c2f-aee5f492dd02",
   "metadata": {},
   "outputs": [],
   "source": [
    "# Example of OverflowError\n",
    "import sys\n",
    "\n",
    "try:\n",
    "    result = sys.maxsize + 1\n",
    "except OverflowError as e:\n",
    "    print(f\"Error: {e}\")"
   ]
  },
  {
   "cell_type": "code",
   "execution_count": 20,
   "id": "4858f66a-c4b3-42f7-b412-62e1b247d49c",
   "metadata": {},
   "outputs": [],
   "source": [
    "# Error: Python int too large to convert to C long"
   ]
  },
  {
   "cell_type": "markdown",
   "id": "fecd113c-f5ac-4b02-b533-32d80609094c",
   "metadata": {},
   "source": [
    "Q4. Why LookupError class is used? Explain with an example KeyError and IndexError."
   ]
  },
  {
   "cell_type": "raw",
   "id": "83567c0f-015d-4649-aa81-239c958ac0ed",
   "metadata": {},
   "source": [
    "The LookupError is a base class for exceptions that occur when a key or index used to look up a value in a mapping or sequence is not found. It is a subclass of the built-in Exception class. Two common exceptions derived from LookupError are KeyError and IndexError."
   ]
  },
  {
   "cell_type": "raw",
   "id": "8be3684f-085f-4d56-b652-5d13b9c53fa9",
   "metadata": {},
   "source": [
    "1. KeyError:\n",
    "This exception is raised when a dictionary is accessed with a key that is not present in the dictionary."
   ]
  },
  {
   "cell_type": "code",
   "execution_count": 17,
   "id": "4de013f9-ba13-44ea-a1f5-0cc3d0b31b57",
   "metadata": {},
   "outputs": [
    {
     "name": "stdout",
     "output_type": "stream",
     "text": [
      "Error: 'd'\n"
     ]
    }
   ],
   "source": [
    "# Example of KeyError\n",
    "my_dict = {'a': 1, 'b': 2, 'c': 3}\n",
    "\n",
    "try:\n",
    "    value = my_dict['d']\n",
    "except KeyError as e:\n",
    "    print(f\"Error: {e}\")\n"
   ]
  },
  {
   "cell_type": "raw",
   "id": "7d8cd3be-8326-4248-bae1-c4836a3b0d3e",
   "metadata": {},
   "source": [
    "2. IndexError:\n",
    "Raised when a sequence subscript is out of range."
   ]
  },
  {
   "cell_type": "code",
   "execution_count": 18,
   "id": "365560b5-1902-4616-b900-583b11456f9c",
   "metadata": {},
   "outputs": [
    {
     "name": "stdout",
     "output_type": "stream",
     "text": [
      "Error: list index out of range\n"
     ]
    }
   ],
   "source": [
    "# Example of IndexError\n",
    "my_list = [1, 2, 3, 4, 5]\n",
    "\n",
    "try:\n",
    "    element = my_list[10]  # Index 10 is out of range for the list\n",
    "except IndexError as e:\n",
    "    print(f\"Error: {e}\")\n"
   ]
  },
  {
   "cell_type": "markdown",
   "id": "dad330d3-aa11-4c3b-bdf7-3c42c85eb796",
   "metadata": {},
   "source": [
    "5. Explain ImportError. What is ModuleNotFoundError?"
   ]
  },
  {
   "cell_type": "raw",
   "id": "2c8133a6-700f-40ea-ae76-3a6ba23eb5ad",
   "metadata": {},
   "source": [
    "ImportError is a base class for exceptions that occur when an import statement fails. It is a subclass of the built-in Exception class. When there is an issue with importing a module or accessing a module attribute, Python raises an ImportError.\n",
    "\n",
    "One specific exception that is often used in the context of module imports is ModuleNotFoundError. It is a subclass of ImportError and is raised when a module cannot be found during the import process."
   ]
  },
  {
   "cell_type": "raw",
   "id": "7f1a2d09-2f19-47e5-bba9-2267c41f8519",
   "metadata": {},
   "source": [
    "1. ImportError:\n",
    "Raised when there is a generic issue with importing a module."
   ]
  },
  {
   "cell_type": "code",
   "execution_count": 21,
   "id": "1991c043-54c9-4519-8067-8084abfee168",
   "metadata": {},
   "outputs": [
    {
     "name": "stdout",
     "output_type": "stream",
     "text": [
      "Error: No module named 'non_existent_module'\n"
     ]
    }
   ],
   "source": [
    "try:\n",
    "    import non_existent_module  # Trying to import a module that doesn't exist\n",
    "except ImportError as e:\n",
    "    print(f\"Error: {e}\")"
   ]
  },
  {
   "cell_type": "raw",
   "id": "dd3af3cf-86ec-4bd8-85e8-dffe150cecae",
   "metadata": {},
   "source": [
    "2. ModuleNotFoundError:\n",
    "A specific subclass of ImportError that is raised when a module cannot be found."
   ]
  },
  {
   "cell_type": "code",
   "execution_count": 22,
   "id": "1bc1f038-4bc5-466e-b9fc-0acd001320cf",
   "metadata": {},
   "outputs": [
    {
     "name": "stdout",
     "output_type": "stream",
     "text": [
      "Error: No module named 'non_existent_package'\n"
     ]
    }
   ],
   "source": [
    "try:\n",
    "    from non_existent_package import module_inside_package  # Trying to import a module inside a non-existent package\n",
    "except ModuleNotFoundError as e:\n",
    "    print(f\"Error: {e}\")"
   ]
  },
  {
   "cell_type": "markdown",
   "id": "e9c31a54-ae57-47f4-8e36-62ad004a3af2",
   "metadata": {},
   "source": [
    "Q6. List down some best practices for exception handling in python."
   ]
  },
  {
   "cell_type": "raw",
   "id": "acd01ee3-f850-495a-84b3-3c83b401ed4b",
   "metadata": {},
   "source": [
    "Specific Exception Handling:\n",
    "\n",
    "Catch only the exceptions you expect and handle them appropriately. Avoid using a generic except clause unless it's necessary. This helps to prevent unintentionally catching and hiding unexpected errors.\n",
    "\n",
    "ex.\n",
    "try:\n",
    "    # code that may raise a specific exception\n",
    "except SpecificError as e:\n",
    "    # handle SpecificError\n",
    "\n",
    "\n",
    "Use Multiple Except Clauses:\n",
    "If you need to handle different exceptions in different ways, use multiple except clauses.\n",
    "\n",
    "ex.\n",
    "try:\n",
    "    # code that may raise different exceptions\n",
    "except SpecificError as e:\n",
    "    # handle SpecificError\n",
    "except AnotherError as e:\n",
    "    # handle AnotherError\n",
    "\n",
    "\n",
    "Avoid Bare Except Clauses:\n",
    "Avoid using a bare except clause (except:) as it can catch and hide unexpected errors. Always catch specific exceptions.\n",
    "\n",
    "ex.\n",
    "# Avoid this\n",
    "try:\n",
    "    # code that may raise any exception\n",
    "except:\n",
    "    # handle any exception (not recommended)\n",
    "\n",
    "\n",
    "Use finally for Cleanup:\n",
    "Use the finally block to ensure that cleanup code (closing files, releasing resources, etc.) is executed, regardless of whether an exception occurs.\n",
    "\n",
    "ex.\n",
    "try:\n",
    "    # code that may raise an exception\n",
    "except SpecificError as e:\n",
    "    # handle SpecificError\n",
    "finally:\n",
    "    # cleanup code"
   ]
  },
  {
   "cell_type": "code",
   "execution_count": null,
   "id": "95609ee7-9f8c-40d8-a321-b0c6731d4147",
   "metadata": {},
   "outputs": [],
   "source": []
  }
 ],
 "metadata": {
  "kernelspec": {
   "display_name": "Python 3 (ipykernel)",
   "language": "python",
   "name": "python3"
  },
  "language_info": {
   "codemirror_mode": {
    "name": "ipython",
    "version": 3
   },
   "file_extension": ".py",
   "mimetype": "text/x-python",
   "name": "python",
   "nbconvert_exporter": "python",
   "pygments_lexer": "ipython3",
   "version": "3.10.8"
  }
 },
 "nbformat": 4,
 "nbformat_minor": 5
}
